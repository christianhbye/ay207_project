{
 "cells": [
  {
   "cell_type": "code",
   "execution_count": 4,
   "id": "a06db756",
   "metadata": {},
   "outputs": [],
   "source": [
    "from antsim import fdtd"
   ]
  },
  {
   "cell_type": "markdown",
   "id": "aa2e0a3b",
   "metadata": {},
   "source": [
    "\"JABBADABADU\""
   ]
  },
  {
   "cell_type": "code",
   "execution_count": null,
   "id": "0cdaf7c2",
   "metadata": {},
   "outputs": [],
   "source": []
  }
 ],
 "metadata": {
  "kernelspec": {
   "display_name": "conda-base",
   "language": "python",
   "name": "conda-base"
  },
  "language_info": {
   "codemirror_mode": {
    "name": "ipython",
    "version": 3
   },
   "file_extension": ".py",
   "mimetype": "text/x-python",
   "name": "python",
   "nbconvert_exporter": "python",
   "pygments_lexer": "ipython3",
   "version": "3.8.10"
  }
 },
 "nbformat": 4,
 "nbformat_minor": 5
}
